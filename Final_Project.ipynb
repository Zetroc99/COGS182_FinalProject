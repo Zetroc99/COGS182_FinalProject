{
 "cells": [
  {
   "cell_type": "markdown",
   "id": "nominated-bolivia",
   "metadata": {},
   "source": [
    "# Final Project\n",
    "## Marlon Cortez\n",
    "## A14604525"
   ]
  },
  {
   "cell_type": "code",
   "execution_count": 1,
   "id": "floating-cancer",
   "metadata": {},
   "outputs": [],
   "source": [
    "import numpy as np\n",
    "import seaborn as sns\n",
    "import matplotlib.pyplot as plt\n",
    "from skimage import draw\n",
    "from collections import defaultdict"
   ]
  },
  {
   "cell_type": "markdown",
   "id": "elementary-display",
   "metadata": {},
   "source": [
    "### Creating the race tracks"
   ]
  },
  {
   "cell_type": "markdown",
   "id": "upper-wisconsin",
   "metadata": {},
   "source": [
    "#### Straight line track (simpleTrack)"
   ]
  },
  {
   "cell_type": "code",
   "execution_count": 2,
   "id": "inside-circular",
   "metadata": {},
   "outputs": [
    {
     "data": {
      "text/plain": [
       "<matplotlib.axes._subplots.AxesSubplot at 0x2112f67ec50>"
      ]
     },
     "execution_count": 2,
     "metadata": {},
     "output_type": "execute_result"
    },
    {
     "data": {
      "image/png": "[encoded data removed]",
      "text/plain": [
       "<matplotlib.figure.Figure at 0x2112bc5e048>"
      ]
     },
     "metadata": {
      "needs_background": "light"
     },
     "output_type": "display_data"
    }
   ],
   "source": [
    "simpleTrack = np.zeros((20,6))\n",
    "simpleTrack[0] = np.ones(6)\n",
    "simpleTrack[19,1:-1] = -1\n",
    "simpleTrack[:,0] = -1\n",
    "simpleTrack[:,-1] = -1\n",
    "sns.heatmap(simpleTrack)"
   ]
  },
  {
   "cell_type": "markdown",
   "id": "august-value",
   "metadata": {},
   "source": [
    "#### Single turn track"
   ]
  },
  {
   "cell_type": "code",
   "execution_count": 4,
   "id": "combined-brazil",
   "metadata": {},
   "outputs": [
    {
     "data": {
      "text/plain": [
       "<matplotlib.axes._subplots.AxesSubplot at 0x211307a9f28>"
      ]
     },
     "execution_count": 4,
     "metadata": {},
     "output_type": "execute_result"
    },
    {
     "data": {
      "image/png": "[encoded data removed]",
      "text/plain": [
       "<matplotlib.figure.Figure at 0x211307a9940>"
      ]
     },
     "metadata": {
      "needs_background": "light"
     },
     "output_type": "display_data"
    }
   ],
   "source": [
    "turn = np.zeros((12, 12))\n",
    "rr, cc = draw.polygon_perimeter([11,11,5,4,0,0,0],\n",
    "                                [0,3,4,11,11,5,0],\n",
    "                            shape=turn.shape, clip=True)\n",
    "turn[rr, cc] = -1\n",
    "lastCol = turn[:,11]\n",
    "lastCol[lastCol == -1] = 1\n",
    "lastRow = turn[11:]\n",
    "lastRow[lastRow == -1] = -1\n",
    "turn[-1,0], turn[-1, 3] = -1,-1\n",
    "turn[0,11], turn[4, 11] = -1,-1\n",
    "turnTrack = turn\n",
    "sns.heatmap(turnTrack)"
   ]
  },
  {
   "cell_type": "markdown",
   "id": "australian-franchise",
   "metadata": {},
   "source": [
    "### Building the environment"
   ]
  },
  {
   "cell_type": "code",
   "execution_count": 12,
   "id": "valid-decline",
   "metadata": {},
   "outputs": [],
   "source": [
    "def nextMove(state, action, track):\n",
    "    \"\"\"\n",
    "    Actions: UP(0), RIGHT(1), DOWN(2), LEFT(3)\n",
    "    State: (row, col)\n",
    "    \"\"\"\n",
    "    if action == 0:\n",
    "        nextState = (state[0] - 1, state[1])\n",
    "    elif action == 1:\n",
    "        nextState = (state[0], state[1] + 1)\n",
    "    elif action == 2:\n",
    "        nextState = (state[0] + 1, state[1])\n",
    "    else:\n",
    "        nextState = (state[0], state[1] - 1)\n",
    "        \n",
    "    reward = track[nextState[0],nextState[1]]\n",
    "    return nextState, reward\n",
    "\n",
    "\n",
    "def epsilon_greedy(e, state, policy):\n",
    "    \"\"\"\n",
    "    Epsilon: greedy for action selectiona exploration\n",
    "    \"\"\"\n",
    "    be_greedy = np.random.random() < e\n",
    "    if be_greedy:\n",
    "        action = policy[state]\n",
    "    else:\n",
    "        action = np.random.randint(0,4)\n",
    "    return action"
   ]
  },
  {
   "cell_type": "markdown",
   "id": "graphic-merit",
   "metadata": {},
   "source": [
    "### Algorithms"
   ]
  },
  {
   "cell_type": "markdown",
   "id": "induced-heating",
   "metadata": {},
   "source": [
    "#### Monte Carlo Control with Exploratory Starts"
   ]
  },
  {
   "cell_type": "code",
   "execution_count": 23,
   "id": "parliamentary-spirituality",
   "metadata": {},
   "outputs": [],
   "source": [
    "def MC_ES_ep(policy, Q, start_state, track, count):\n",
    "    \n",
    "    state = start_state\n",
    "    saR = []\n",
    "    \n",
    "    while True:\n",
    "        action = np.random.choice([0,1,2,3])\n",
    "\n",
    "        if state in count:\n",
    "            count[state][action] += 1\n",
    "        else:\n",
    "            count[state] = [1 if i == action else 0 for i in range(4)]\n",
    "                   \n",
    "        newState, r = nextMove(state, action, track)\n",
    "        saR.append([state, action, r])\n",
    "        \n",
    "        if r != 0:\n",
    "            break\n",
    "        state = newState\n",
    "        \n",
    "    saR.reverse()\n",
    "    G = 0\n",
    "    for t in saR:\n",
    "        action = t[1]\n",
    "        state = t[0]\n",
    "        G = t[2] + G\n",
    "        if state in count:\n",
    "            a = (1.0/ count[state][action])\n",
    "            Q[state][action] += a*(G - Q[state][action])\n",
    "            policy[state[0], state[1]] = np.argmax(Q[state])\n",
    "            \n",
    "    return policy\n",
    "\n",
    "\n",
    "def implement_MC_ES(track, eps, rmax, cmax):\n",
    "    \n",
    "    r,c = np.random.choice(np.arange(1, rmax)), np.random.choice(np.arange(1, cmax))\n",
    "    start_state = r,c\n",
    "    count = {}\n",
    "    policy = np.zeros([track.shape[0], track.shape[1]])\n",
    "    Q = defaultdict(lambda: np.zeros(4))\n",
    "\n",
    "    for j in range(eps):     \n",
    "        policy = MC_ES_ep(policy, Q, start_state, track, count)\n",
    "        \n",
    "    return policy"
   ]
  },
  {
   "cell_type": "markdown",
   "id": "general-bottom",
   "metadata": {},
   "source": [
    "#### TD Lambda"
   ]
  },
  {
   "cell_type": "code",
   "execution_count": 42,
   "id": "industrial-assurance",
   "metadata": {},
   "outputs": [],
   "source": [
    "def TD_lmbda_ep(policy, track, start_state, values, lmbda, alpha, gamma):\n",
    "    \n",
    "    e_weights = np.zeros([len(track[:]), len(track[0])])\n",
    "    state = start_state\n",
    "    action = 0\n",
    "   \n",
    "    for t in range(10000):\n",
    "        state_new, r = nextMove(state, action, track)\n",
    "        \n",
    "        td_error = r + gamma*values[state_new[0], state_new[1]] - values[state[0], state[1]]\n",
    "        e_weights[state[0], state[1]] = 1\n",
    "    \n",
    "        #update values and eligibility weights\n",
    "        values = values + alpha*td_error*e_weights\n",
    "        e_weights = gamma*lmbda*e_weights\n",
    "        state = state_new\n",
    "        action = epsilon_greedy(0.1, state, policy)\n",
    "        \n",
    "        if r != 0:\n",
    "            break\n",
    "            \n",
    "    return values\n",
    "\n",
    "def implement_TD_lmbda(policy, track, eps, alpha, lmbda, gamma):\n",
    "    values = np.zeros((len(track[:]), len(track[0])))\n",
    "\n",
    "    if track.shape[0] == 20:\n",
    "        for j in range(eps):\n",
    "            start_state = (19, np.random.choice([1,2,3,4]))\n",
    "            values = TD_lmbda_ep(policy, track, start_state, \n",
    "                                  values, lmbda, alpha, gamma)\n",
    "    elif track.shape[1] == 12:\n",
    "        for j in range(eps):\n",
    "            start_state = (11, np.random.choice([1,2]))\n",
    "            values = TD_lmbda_ep(policy, track, start_state, \n",
    "                                  values, lmbda, alpha, gamma)\n",
    "    \n",
    "    return values"
   ]
  },
  {
   "cell_type": "markdown",
   "id": "aquatic-fancy",
   "metadata": {},
   "source": [
    "### Implementing Learning Algorithms"
   ]
  },
  {
   "cell_type": "markdown",
   "id": "electric-narrow",
   "metadata": {},
   "source": [
    "#### SimpleTrack"
   ]
  },
  {
   "cell_type": "code",
   "execution_count": 43,
   "id": "figured-huntington",
   "metadata": {},
   "outputs": [
    {
     "data": {
      "text/plain": [
       "<matplotlib.axes._subplots.AxesSubplot at 0x21130bb0dd8>"
      ]
     },
     "execution_count": 43,
     "metadata": {},
     "output_type": "execute_result"
    },
    {
     "data": {
      "image/png": "[encoded data removed]",
      "text/plain": [
       "<matplotlib.figure.Figure at 0x21130b39ba8>"
      ]
     },
     "metadata": {
      "needs_background": "light"
     },
     "output_type": "display_data"
    }
   ],
   "source": [
    "trackS = simpleTrack\n",
    "eps = 100000\n",
    "alpha = 0.1\n",
    "lmbda = 0.1\n",
    "gamma = 1.0\n",
    "\n",
    "policyS = implement_MC_ES(trackS, eps, 20, 6)\n",
    "valuesS = implement_TD_lmbda(policyS,trackS, eps, alpha, lmbda, gamma)\n",
    "sns.heatmap(valuesS)"
   ]
  },
  {
   "cell_type": "code",
   "execution_count": 79,
   "id": "muslim-membrane",
   "metadata": {},
   "outputs": [],
   "source": [
    "trackT = turnTrack\n",
    "eps = 100000\n",
    "alpha = 0.1\n",
    "lmbdas = [0, 0.1, 0.5, 0.8, 1.0] \n",
    "gamma = 1.0\n",
    "values = []\n",
    "\n",
    "policyT = implement_MC_ES(trackT, eps, 5, 8)\n",
    "for i, lmbda in enumerate(lmbdas):\n",
    "    valuesT = implement_TD_lmbda(policyT,trackT, eps, alpha, lmbda, gamma)\n",
    "    values.append(valuesT)"
   ]
  },
  {
   "cell_type": "code",
   "execution_count": 80,
   "id": "danish-paradise",
   "metadata": {},
   "outputs": [
    {
     "name": "stdout",
     "output_type": "stream",
     "text": [
      "Lambda = 0\n"
     ]
    },
    {
     "data": {
      "text/plain": [
       "<matplotlib.axes._subplots.AxesSubplot at 0x21132a7bf28>"
      ]
     },
     "execution_count": 80,
     "metadata": {},
     "output_type": "execute_result"
    },
    {
     "data": {
      "image/png": "[encoded data removed]",
      "text/plain": [
       "<matplotlib.figure.Figure at 0x21132a66908>"
      ]
     },
     "metadata": {
      "needs_background": "light"
     },
     "output_type": "display_data"
    }
   ],
   "source": [
    "print(\"Lambda = 0\")\n",
    "sns.heatmap(values[0])"
   ]
  },
  {
   "cell_type": "code",
   "execution_count": 81,
   "id": "brave-beatles",
   "metadata": {},
   "outputs": [
    {
     "name": "stdout",
     "output_type": "stream",
     "text": [
      "Lambda = 0.1\n"
     ]
    },
    {
     "data": {
      "text/plain": [
       "<matplotlib.axes._subplots.AxesSubplot at 0x21132ab5358>"
      ]
     },
     "execution_count": 81,
     "metadata": {},
     "output_type": "execute_result"
    },
    {
     "data": {
      "image/png": "[encoded data removed]",
      "text/plain": [
       "<matplotlib.figure.Figure at 0x21132957d68>"
      ]
     },
     "metadata": {
      "needs_background": "light"
     },
     "output_type": "display_data"
    }
   ],
   "source": [
    "print(\"Lambda = 0.1\")\n",
    "sns.heatmap(values[1])"
   ]
  },
  {
   "cell_type": "code",
   "execution_count": 82,
   "id": "violent-marking",
   "metadata": {},
   "outputs": [
    {
     "name": "stdout",
     "output_type": "stream",
     "text": [
      "Lambda = 0.5\n"
     ]
    },
    {
     "data": {
      "text/plain": [
       "<matplotlib.axes._subplots.AxesSubplot at 0x21132e02860>"
      ]
     },
     "execution_count": 82,
     "metadata": {},
     "output_type": "execute_result"
    },
    {
     "data": {
      "image/png": "[encoded data removed]",
      "text/plain": [
       "<matplotlib.figure.Figure at 0x21132e19208>"
      ]
     },
     "metadata": {
      "needs_background": "light"
     },
     "output_type": "display_data"
    }
   ],
   "source": [
    "print(\"Lambda = 0.5\")\n",
    "sns.heatmap(values[2])"
   ]
  },
  {
   "cell_type": "code",
   "execution_count": 83,
   "id": "statistical-diploma",
   "metadata": {},
   "outputs": [
    {
     "name": "stdout",
     "output_type": "stream",
     "text": [
      "Lambda = 0.8\n"
     ]
    },
    {
     "data": {
      "text/plain": [
       "<matplotlib.axes._subplots.AxesSubplot at 0x21132e93a20>"
      ]
     },
     "execution_count": 83,
     "metadata": {},
     "output_type": "execute_result"
    },
    {
     "data": {
      "image/png": "[encoded data removed]",
      "text/plain": [
       "<matplotlib.figure.Figure at 0x21132ec44e0>"
      ]
     },
     "metadata": {
      "needs_background": "light"
     },
     "output_type": "display_data"
    }
   ],
   "source": [
    "print(\"Lambda = 0.8\")\n",
    "sns.heatmap(values[3])"
   ]
  },
  {
   "cell_type": "code",
   "execution_count": 84,
   "id": "vital-pharmacy",
   "metadata": {},
   "outputs": [
    {
     "name": "stdout",
     "output_type": "stream",
     "text": [
      "Lambda = 1.0\n"
     ]
    },
    {
     "data": {
      "text/plain": [
       "<matplotlib.axes._subplots.AxesSubplot at 0x21133f12be0>"
      ]
     },
     "execution_count": 84,
     "metadata": {},
     "output_type": "execute_result"
    },
    {
     "data": {
      "image/png": "[encoded data removed]",
      "text/plain": [
       "<matplotlib.figure.Figure at 0x21133f4f588>"
      ]
     },
     "metadata": {
      "needs_background": "light"
     },
     "output_type": "display_data"
    }
   ],
   "source": [
    "print(\"Lambda = 1.0\")\n",
    "sns.heatmap(values[4])"
   ]
  },
  {
   "cell_type": "code",
   "execution_count": null,
   "id": "anticipated-macintosh",
   "metadata": {},
   "outputs": [],
   "source": []
  }
 ],
 "metadata": {
  "kernelspec": {
   "display_name": "Python 3",
   "language": "python",
   "name": "python3"
  },
  "language_info": {
   "codemirror_mode": {
    "name": "ipython",
    "version": 3
   },
   "file_extension": ".py",
   "mimetype": "text/x-python",
   "name": "python",
   "nbconvert_exporter": "python",
   "pygments_lexer": "ipython3",
   "version": "3.6.12"
  }
 },
 "nbformat": 4,
 "nbformat_minor": 5
}
