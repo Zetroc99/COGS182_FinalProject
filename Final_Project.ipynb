{
 "cells": [
  {
   "cell_type": "markdown",
   "id": "productive-search",
   "metadata": {},
   "source": [
    "# Final Project\n",
    "## Marlon Cortez\n",
    "## A14604525"
   ]
  },
  {
   "cell_type": "code",
   "execution_count": 1,
   "id": "vulnerable-turning",
   "metadata": {},
   "outputs": [],
   "source": [
    "import numpy as np\n",
    "import seaborn as sns\n",
    "import matplotlib.pyplot as plt\n",
    "from skimage import draw\n",
    "from collections import defaultdict"
   ]
  },
  {
   "cell_type": "markdown",
   "id": "intense-edmonton",
   "metadata": {},
   "source": [
    "### Creating the race tracks"
   ]
  },
  {
   "cell_type": "markdown",
   "id": "expensive-fireplace",
   "metadata": {},
   "source": [
    "#### Straight line track (simpleTrack)"
   ]
  },
  {
   "cell_type": "code",
   "execution_count": 2,
   "id": "enclosed-peeing",
   "metadata": {},
   "outputs": [
    {
     "name": "stdout",
     "output_type": "stream",
     "text": [
      "Fig. 1. track 1\n"
     ]
    },
    {
     "data": {
      "image/png": "[encoded data removed]",
      "text/plain": [
       "<matplotlib.figure.Figure at 0x1d132dbd048>"
      ]
     },
     "metadata": {
      "needs_background": "light"
     },
     "output_type": "display_data"
    }
   ],
   "source": [
    "simpleTrack = np.zeros((20,6))\n",
    "simpleTrack[0] = np.ones(6)\n",
    "simpleTrack[19,1:-1] = -1\n",
    "simpleTrack[:,0] = -1\n",
    "simpleTrack[:,-1] = -1\n",
    "sns.heatmap(simpleTrack)\n",
    "print(\"Fig. 1. track 1\")"
   ]
  },
  {
   "cell_type": "markdown",
   "id": "authorized-jordan",
   "metadata": {},
   "source": [
    "#### Single turn track"
   ]
  },
  {
   "cell_type": "code",
   "execution_count": 3,
   "id": "described-carry",
   "metadata": {},
   "outputs": [
    {
     "data": {
      "text/plain": [
       "<matplotlib.axes._subplots.AxesSubplot at 0x1d137947e48>"
      ]
     },
     "execution_count": 3,
     "metadata": {},
     "output_type": "execute_result"
    },
    {
     "data": {
      "image/png": "[encoded data removed]",
      "text/plain": [
       "<matplotlib.figure.Figure at 0x1d1379478d0>"
      ]
     },
     "metadata": {
      "needs_background": "light"
     },
     "output_type": "display_data"
    }
   ],
   "source": [
    "turn = np.zeros((12, 12))\n",
    "rr, cc = draw.polygon_perimeter([11,11,5,4,0,0,0],\n",
    "                                [0,3,4,11,11,5,0],\n",
    "                            shape=turn.shape, clip=True)\n",
    "turn[rr, cc] = -1\n",
    "lastCol = turn[:,11]\n",
    "lastCol[lastCol == -1] = 1\n",
    "lastRow = turn[11:]\n",
    "lastRow[lastRow == -1] = -1\n",
    "turn[-1,0], turn[-1, 3] = -1,-1\n",
    "turn[0,11], turn[4, 11] = -1,-1\n",
    "turnTrack = turn\n",
    "sns.heatmap(turnTrack)"
   ]
  },
  {
   "cell_type": "markdown",
   "id": "occasional-rough",
   "metadata": {},
   "source": [
    "### Building the environment"
   ]
  },
  {
   "cell_type": "code",
   "execution_count": 4,
   "id": "southeast-webcam",
   "metadata": {},
   "outputs": [],
   "source": [
    "def nextMove(state, action, track):\n",
    "    \"\"\"\n",
    "    Actions: UP(0), RIGHT(1), DOWN(2), LEFT(3)\n",
    "    State: (row, col)\n",
    "    \"\"\"\n",
    "    if action == 0:\n",
    "        nextState = (state[0] - 1, state[1])\n",
    "    elif action == 1:\n",
    "        nextState = (state[0], state[1] + 1)\n",
    "    elif action == 2:\n",
    "        nextState = (state[0] + 1, state[1])\n",
    "    else:\n",
    "        nextState = (state[0], state[1] - 1)\n",
    "        \n",
    "    reward = track[nextState[0],nextState[1]]\n",
    "    return nextState, reward\n",
    "\n",
    "\n",
    "def epsilon_greedy(e, state, policy):\n",
    "    \"\"\"\n",
    "    Epsilon: greedy for action selectiona exploration\n",
    "    \"\"\"\n",
    "    be_greedy = np.random.random() < e\n",
    "    if be_greedy:\n",
    "        action = policy[state]\n",
    "    else:\n",
    "        action = np.random.randint(0,4)\n",
    "    return action"
   ]
  },
  {
   "cell_type": "markdown",
   "id": "wrong-devil",
   "metadata": {},
   "source": [
    "### Algorithms"
   ]
  },
  {
   "cell_type": "markdown",
   "id": "cellular-redhead",
   "metadata": {},
   "source": [
    "#### Monte Carlo Control with Exploratory Starts"
   ]
  },
  {
   "cell_type": "code",
   "execution_count": 5,
   "id": "swedish-means",
   "metadata": {},
   "outputs": [],
   "source": [
    "def MC_ES_ep(policy, Q, start_state, track, count):\n",
    "    \n",
    "    state = start_state\n",
    "    saR = []\n",
    "    \n",
    "    while True:\n",
    "        action = np.random.choice([0,1,2,3])\n",
    "\n",
    "        if state in count:\n",
    "            count[state][action] += 1\n",
    "        else:\n",
    "            count[state] = [1 if i == action else 0 for i in range(4)]\n",
    "                   \n",
    "        newState, r = nextMove(state, action, track)\n",
    "        saR.append([state, action, r])\n",
    "        \n",
    "        if r != 0:\n",
    "            break\n",
    "        state = newState\n",
    "        \n",
    "    saR.reverse()\n",
    "    G = 0\n",
    "    for t in saR:\n",
    "        action = t[1]\n",
    "        state = t[0]\n",
    "        G = t[2] + G\n",
    "        if state in count:\n",
    "            a = (1.0/ count[state][action])\n",
    "            Q[state][action] += a*(G - Q[state][action])\n",
    "            policy[state[0], state[1]] = np.argmax(Q[state])\n",
    "            \n",
    "    return policy\n",
    "\n",
    "\n",
    "def implement_MC_ES(track, eps, rmax, cmax):\n",
    "    \n",
    "    r,c = np.random.choice(np.arange(1, rmax)), np.random.choice(np.arange(1, cmax))\n",
    "    start_state = r,c\n",
    "    count = {}\n",
    "    policy = np.zeros([track.shape[0], track.shape[1]])\n",
    "    Q = defaultdict(lambda: np.zeros(4))\n",
    "\n",
    "    for j in range(eps):     \n",
    "        policy = MC_ES_ep(policy, Q, start_state, track, count)\n",
    "        \n",
    "    return policy"
   ]
  },
  {
   "cell_type": "markdown",
   "id": "korean-bangladesh",
   "metadata": {},
   "source": [
    "#### TD Lambda"
   ]
  },
  {
   "cell_type": "code",
   "execution_count": 6,
   "id": "federal-short",
   "metadata": {},
   "outputs": [],
   "source": [
    "def TD_lmbda_ep(policy, track, start_state, values, lmbda, alpha, gamma):\n",
    "    \n",
    "    e_weights = np.zeros([len(track[:]), len(track[0])])\n",
    "    state = start_state\n",
    "    action = 0\n",
    "   \n",
    "    for t in range(10000):\n",
    "        state_new, r = nextMove(state, action, track)\n",
    "        \n",
    "        td_error = r + gamma*values[state_new[0], state_new[1]] - values[state[0], state[1]]\n",
    "        e_weights[state[0], state[1]] = 1\n",
    "    \n",
    "        #update values and eligibility weights\n",
    "        values = values + alpha*td_error*e_weights\n",
    "        e_weights = gamma*lmbda*e_weights\n",
    "        state = state_new\n",
    "        action = epsilon_greedy(0.1, state, policy)\n",
    "        \n",
    "        if r != 0:\n",
    "            break\n",
    "            \n",
    "    return values\n",
    "\n",
    "def implement_TD_lmbda(policy, track, eps, alpha, lmbda, gamma):\n",
    "    values = np.zeros((len(track[:]), len(track[0])))\n",
    "\n",
    "    if track.shape[0] == 20:\n",
    "        for j in range(eps):\n",
    "            start_state = (19, np.random.choice([1,2,3,4]))\n",
    "            values = TD_lmbda_ep(policy, track, start_state, \n",
    "                                  values, lmbda, alpha, gamma)\n",
    "    elif track.shape[1] == 12:\n",
    "        for j in range(eps):\n",
    "            start_state = (11, np.random.choice([1,2]))\n",
    "            values = TD_lmbda_ep(policy, track, start_state, \n",
    "                                  values, lmbda, alpha, gamma)\n",
    "    \n",
    "    return values"
   ]
  },
  {
   "cell_type": "markdown",
   "id": "rotary-consultancy",
   "metadata": {},
   "source": [
    "### Implementing Learning Algorithms"
   ]
  },
  {
   "cell_type": "markdown",
   "id": "acoustic-caution",
   "metadata": {},
   "source": [
    "#### SimpleTrack"
   ]
  },
  {
   "cell_type": "code",
   "execution_count": 8,
   "id": "front-collection",
   "metadata": {},
   "outputs": [],
   "source": [
    "trackS = simpleTrack\n",
    "eps = 100000\n",
    "alpha = 0.1\n",
    "lmbdas = [0, 0.1, 0.5, 0.8, 1.0]\n",
    "gamma = 0.5\n",
    "values = []\n",
    "\n",
    "policyS = implement_MC_ES(trackS, eps, 20, 6)\n",
    "for i, lmbda in enumerate(lmbdas):\n",
    "    valuesS = implement_TD_lmbda(policyS,trackS, eps, alpha, lmbda, gamma)\n",
    "    values.append(valuesS)"
   ]
  },
  {
   "cell_type": "code",
   "execution_count": 22,
   "id": "changed-universal",
   "metadata": {},
   "outputs": [
    {
     "data": {
      "text/plain": [
       "<matplotlib.axes._subplots.AxesSubplot at 0x1d1381a3cf8>"
      ]
     },
     "execution_count": 22,
     "metadata": {},
     "output_type": "execute_result"
    },
    {
     "data": {
      "image/png": "[encoded data removed]",
      "text/plain": [
       "<matplotlib.figure.Figure at 0x1d1381bf160>"
      ]
     },
     "metadata": {
      "needs_background": "light"
     },
     "output_type": "display_data"
    }
   ],
   "source": [
    "sns.heatmap(policyS)"
   ]
  },
  {
   "cell_type": "code",
   "execution_count": 10,
   "id": "blocked-mainstream",
   "metadata": {},
   "outputs": [
    {
     "name": "stdout",
     "output_type": "stream",
     "text": [
      "Lambda = 0\n"
     ]
    },
    {
     "data": {
      "text/plain": [
       "<matplotlib.axes._subplots.AxesSubplot at 0x1d1379f3d68>"
      ]
     },
     "execution_count": 10,
     "metadata": {},
     "output_type": "execute_result"
    },
    {
     "data": {
      "image/png": "[encoded data removed]",
      "text/plain": [
       "<matplotlib.figure.Figure at 0x1d13794f940>"
      ]
     },
     "metadata": {
      "needs_background": "light"
     },
     "output_type": "display_data"
    }
   ],
   "source": [
    "print(\"Lambda = 0\")\n",
    "sns.heatmap(values[0])"
   ]
  },
  {
   "cell_type": "code",
   "execution_count": 11,
   "id": "graphic-divide",
   "metadata": {},
   "outputs": [
    {
     "name": "stdout",
     "output_type": "stream",
     "text": [
      "Lambda = 0.1\n"
     ]
    },
    {
     "data": {
      "text/plain": [
       "<matplotlib.axes._subplots.AxesSubplot at 0x1d137addc50>"
      ]
     },
     "execution_count": 11,
     "metadata": {},
     "output_type": "execute_result"
    },
    {
     "data": {
      "image/png": "[encoded data removed]",
      "text/plain": [
       "<matplotlib.figure.Figure at 0x1d1379e0eb8>"
      ]
     },
     "metadata": {
      "needs_background": "light"
     },
     "output_type": "display_data"
    }
   ],
   "source": [
    "print(\"Lambda = 0.1\")\n",
    "sns.heatmap(values[1])"
   ]
  },
  {
   "cell_type": "code",
   "execution_count": 12,
   "id": "later-lucas",
   "metadata": {},
   "outputs": [
    {
     "name": "stdout",
     "output_type": "stream",
     "text": [
      "Lambda = 0.5\n"
     ]
    },
    {
     "data": {
      "text/plain": [
       "<matplotlib.axes._subplots.AxesSubplot at 0x1d1368eb4e0>"
      ]
     },
     "execution_count": 12,
     "metadata": {},
     "output_type": "execute_result"
    },
    {
     "data": {
      "image/png": "[encoded data removed]",
      "text/plain": [
       "<matplotlib.figure.Figure at 0x1d13799bac8>"
      ]
     },
     "metadata": {
      "needs_background": "light"
     },
     "output_type": "display_data"
    }
   ],
   "source": [
    "print(\"Lambda = 0.5\")\n",
    "sns.heatmap(values[2])"
   ]
  },
  {
   "cell_type": "code",
   "execution_count": 13,
   "id": "interstate-wayne",
   "metadata": {},
   "outputs": [
    {
     "name": "stdout",
     "output_type": "stream",
     "text": [
      "Lambda = 0.8\n"
     ]
    },
    {
     "data": {
      "text/plain": [
       "<matplotlib.axes._subplots.AxesSubplot at 0x1d137bbd048>"
      ]
     },
     "execution_count": 13,
     "metadata": {},
     "output_type": "execute_result"
    },
    {
     "data": {
      "image/png": "[encoded data removed]",
      "text/plain": [
       "<matplotlib.figure.Figure at 0x1d137bc9160>"
      ]
     },
     "metadata": {
      "needs_background": "light"
     },
     "output_type": "display_data"
    }
   ],
   "source": [
    "print(\"Lambda = 0.8\")\n",
    "sns.heatmap(values[3])"
   ]
  },
  {
   "cell_type": "code",
   "execution_count": 14,
   "id": "laughing-distinction",
   "metadata": {},
   "outputs": [
    {
     "name": "stdout",
     "output_type": "stream",
     "text": [
      "Lambda = 1.0\n"
     ]
    },
    {
     "data": {
      "text/plain": [
       "<matplotlib.axes._subplots.AxesSubplot at 0x1d137c41da0>"
      ]
     },
     "execution_count": 14,
     "metadata": {},
     "output_type": "execute_result"
    },
    {
     "data": {
      "image/png": "[encoded data removed]",
      "text/plain": [
       "<matplotlib.figure.Figure at 0x1d137c87a58>"
      ]
     },
     "metadata": {
      "needs_background": "light"
     },
     "output_type": "display_data"
    }
   ],
   "source": [
    "print(\"Lambda = 1.0\")\n",
    "sns.heatmap(values[4])"
   ]
  },
  {
   "cell_type": "markdown",
   "id": "present-teens",
   "metadata": {},
   "source": [
    "#### TurnTrack"
   ]
  },
  {
   "cell_type": "code",
   "execution_count": 15,
   "id": "corporate-ontario",
   "metadata": {},
   "outputs": [],
   "source": [
    "trackT = turnTrack\n",
    "eps = 100000\n",
    "alpha = 0.1\n",
    "lmbdas = [0, 0.1, 0.5, 0.8, 1.0] \n",
    "gamma = 0.8\n",
    "values = []\n",
    "\n",
    "policyT = implement_MC_ES(trackT, eps, 5, 8)\n",
    "for i, lmbda in enumerate(lmbdas):\n",
    "    valuesT = implement_TD_lmbda(policyT,trackT, eps, alpha, lmbda, gamma)\n",
    "    values.append(valuesT)"
   ]
  },
  {
   "cell_type": "code",
   "execution_count": 21,
   "id": "bulgarian-finish",
   "metadata": {},
   "outputs": [
    {
     "data": {
      "text/plain": [
       "<matplotlib.axes._subplots.AxesSubplot at 0x1d1380ef400>"
      ]
     },
     "execution_count": 21,
     "metadata": {},
     "output_type": "execute_result"
    },
    {
     "data": {
      "image/png": "[encoded data removed]",
      "text/plain": [
       "<matplotlib.figure.Figure at 0x1d1380fde48>"
      ]
     },
     "metadata": {
      "needs_background": "light"
     },
     "output_type": "display_data"
    }
   ],
   "source": [
    "sns.heatmap(policyT)"
   ]
  },
  {
   "cell_type": "code",
   "execution_count": 16,
   "id": "polished-cricket",
   "metadata": {},
   "outputs": [
    {
     "name": "stdout",
     "output_type": "stream",
     "text": [
      "Lambda = 0\n"
     ]
    },
    {
     "data": {
      "text/plain": [
       "<matplotlib.axes._subplots.AxesSubplot at 0x1d137d3b908>"
      ]
     },
     "execution_count": 16,
     "metadata": {},
     "output_type": "execute_result"
    },
    {
     "data": {
      "image/png": "[encoded data removed]",
      "text/plain": [
       "<matplotlib.figure.Figure at 0x1d137d42e48>"
      ]
     },
     "metadata": {
      "needs_background": "light"
     },
     "output_type": "display_data"
    }
   ],
   "source": [
    "print(\"Lambda = 0\")\n",
    "sns.heatmap(values[0])"
   ]
  },
  {
   "cell_type": "code",
   "execution_count": 17,
   "id": "contained-calculator",
   "metadata": {},
   "outputs": [
    {
     "name": "stdout",
     "output_type": "stream",
     "text": [
      "Lambda = 0.1\n"
     ]
    },
    {
     "data": {
      "text/plain": [
       "<matplotlib.axes._subplots.AxesSubplot at 0x1d137da9048>"
      ]
     },
     "execution_count": 17,
     "metadata": {},
     "output_type": "execute_result"
    },
    {
     "data": {
      "image/png": "[encoded data removed]",
      "text/plain": [
       "<matplotlib.figure.Figure at 0x1d137e1b198>"
      ]
     },
     "metadata": {
      "needs_background": "light"
     },
     "output_type": "display_data"
    }
   ],
   "source": [
    "print(\"Lambda = 0.1\")\n",
    "sns.heatmap(values[1])"
   ]
  },
  {
   "cell_type": "code",
   "execution_count": 18,
   "id": "empirical-trust",
   "metadata": {},
   "outputs": [
    {
     "name": "stdout",
     "output_type": "stream",
     "text": [
      "Lambda = 0.5\n"
     ]
    },
    {
     "data": {
      "text/plain": [
       "<matplotlib.axes._subplots.AxesSubplot at 0x1d137e7ab00>"
      ]
     },
     "execution_count": 18,
     "metadata": {},
     "output_type": "execute_result"
    },
    {
     "data": {
      "image/png": "[encoded data removed]",
      "text/plain": [
       "<matplotlib.figure.Figure at 0x1d137ec1828>"
      ]
     },
     "metadata": {
      "needs_background": "light"
     },
     "output_type": "display_data"
    }
   ],
   "source": [
    "print(\"Lambda = 0.5\")\n",
    "sns.heatmap(values[2])"
   ]
  },
  {
   "cell_type": "code",
   "execution_count": 19,
   "id": "sudden-program",
   "metadata": {},
   "outputs": [
    {
     "name": "stdout",
     "output_type": "stream",
     "text": [
      "Lambda = 0.8\n"
     ]
    },
    {
     "data": {
      "text/plain": [
       "<matplotlib.axes._subplots.AxesSubplot at 0x1d137f0b6a0>"
      ]
     },
     "execution_count": 19,
     "metadata": {},
     "output_type": "execute_result"
    },
    {
     "data": {
      "image/png": "[encoded data removed]",
      "text/plain": [
       "<matplotlib.figure.Figure at 0x1d137f492e8>"
      ]
     },
     "metadata": {
      "needs_background": "light"
     },
     "output_type": "display_data"
    }
   ],
   "source": [
    "print(\"Lambda = 0.8\")\n",
    "sns.heatmap(values[3])"
   ]
  },
  {
   "cell_type": "code",
   "execution_count": 20,
   "id": "essential-disclosure",
   "metadata": {},
   "outputs": [
    {
     "name": "stdout",
     "output_type": "stream",
     "text": [
      "Lambda = 1.0\n"
     ]
    },
    {
     "data": {
      "text/plain": [
       "<matplotlib.axes._subplots.AxesSubplot at 0x1d137ff1f60>"
      ]
     },
     "execution_count": 20,
     "metadata": {},
     "output_type": "execute_result"
    },
    {
     "data": {
      "image/png": "[encoded data removed]",
      "text/plain": [
       "<matplotlib.figure.Figure at 0x1d138028a90>"
      ]
     },
     "metadata": {
      "needs_background": "light"
     },
     "output_type": "display_data"
    }
   ],
   "source": [
    "print(\"Lambda = 1.0\")\n",
    "sns.heatmap(values[4])"
   ]
  },
  {
   "cell_type": "code",
   "execution_count": null,
   "id": "generic-blast",
   "metadata": {},
   "outputs": [],
   "source": []
  }
 ],
 "metadata": {
  "kernelspec": {
   "display_name": "Python 3",
   "language": "python",
   "name": "python3"
  },
  "language_info": {
   "codemirror_mode": {
    "name": "ipython",
    "version": 3
   },
   "file_extension": ".py",
   "mimetype": "text/x-python",
   "name": "python",
   "nbconvert_exporter": "python",
   "pygments_lexer": "ipython3",
   "version": "3.6.12"
  }
 },
 "nbformat": 4,
 "nbformat_minor": 5
}
